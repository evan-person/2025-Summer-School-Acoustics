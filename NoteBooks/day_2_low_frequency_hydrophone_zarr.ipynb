{
 "cells": [
  {
   "cell_type": "markdown",
   "id": "1a91d4fa",
   "metadata": {},
   "source": [
    "# Low Frequency OOI hydrophone data in zarr file\n",
    "<img src=\"https://zarr.dev/android-chrome-512x512.png\" width=\"200\">\n",
    "\n",
    "[Zarr](https://zarr.dev/) is a cloud optimized data format that allows for exploration of large dataset.\n",
    "\n",
    "8 years of ambient sound data measured by the low-frequency (fs=200 Hz) OOI hydrophones has been converted from the original mseed file format into zarr. This greatly increases the efficiency of exploring the hydrophone data."
   ]
  },
  {
   "cell_type": "code",
   "execution_count": null,
   "id": "0e4efa1c",
   "metadata": {},
   "outputs": [],
   "source": [
    "import ooi_2025_summer_school_acoustics as oa\n",
    "import pandas as pd\n",
    "import xarray as xr\n",
    "from dask.distributed import Client, LocalCluster\n",
    "import xrsignal as xrs\n",
    "from scipy import signal\n",
    "import hvplot.xarray\n",
    "import numpy as np\n",
    "import matplotlib.pyplot as plt\n",
    "import seaborn as sns\n",
    "\n",
    "%load_ext autoreload\n",
    "%autoreload 2"
   ]
  },
  {
   "cell_type": "markdown",
   "id": "056bf7cc-e041-4f8f-a635-bada249803e5",
   "metadata": {},
   "source": [
    "**open the zarr file**\n",
    "- located at `/home/jovyan/ooi/rsn_cabled/SummerSchool2025/lowfrequency_hydrophone_data/ooi_lfhydrophones.zarr`\n",
    "\n",
    "You could use\n",
    "```python\n",
    "fn = '/home/jovyan/ooi/rsn_cabled/SummerSchool2025/lowfrequency_hydrophone_data/ooi_lfhydrophones.zarr'\n",
    "lf_hydrophones = xr.open_zarr(fn)\n",
    "```\n",
    "or you can use the `ooi_2025_summer_school_acoustics` helper function `open_lfhydrophones`"
   ]
  },
  {
   "cell_type": "code",
   "execution_count": null,
   "id": "8f0b488a",
   "metadata": {},
   "outputs": [],
   "source": [
    "lf_hydrophones = oa.open_lfhydrophones()"
   ]
  },
  {
   "cell_type": "markdown",
   "id": "8e7d6a44-82ff-49ae-9cbb-94d3ea1acb63",
   "metadata": {},
   "source": [
    "### Slicing Dataset"
   ]
  },
  {
   "cell_type": "code",
   "execution_count": null,
   "id": "1561ef73-4a9f-4342-a5b1-662d76ee99f9",
   "metadata": {},
   "outputs": [],
   "source": [
    "hdata_slice = oa.slice_lf_hydrophones(lf_hydrophones, pd.Timestamp('2017-01-01'), pd.Timestamp('2017-01-01 T01:00:00'))"
   ]
  },
  {
   "cell_type": "code",
   "execution_count": null,
   "id": "17534787-deb2-4162-a0ee-3a9d6f0802f2",
   "metadata": {},
   "outputs": [],
   "source": [
    "hdata_slice['HYS14'].plot()"
   ]
  },
  {
   "cell_type": "markdown",
   "id": "94706a15-2940-4f88-8496-33486c196eb0",
   "metadata": {
    "jp-MarkdownHeadingCollapsed": true
   },
   "source": [
    "## Calculate 6 month, 1 hour resolution spectrogram"
   ]
  },
  {
   "cell_type": "code",
   "execution_count": null,
   "id": "bf79a9b2-635f-4662-b66c-902f3a7706fb",
   "metadata": {},
   "outputs": [],
   "source": [
    "start_time = pd.Timestamp('2018-01-01')\n",
    "end_time = pd.Timestamp('2018-06-01')\n",
    "\n",
    "data_slice = oa.slice_lf_hydrophones(lf_hydrophones, start_time, end_time, include_coord=False)"
   ]
  },
  {
   "cell_type": "code",
   "execution_count": null,
   "id": "3207e655-bb7b-4da4-b320-b22cd2529519",
   "metadata": {},
   "outputs": [],
   "source": [
    "data_slice"
   ]
  },
  {
   "cell_type": "code",
   "execution_count": null,
   "id": "5d36fb7e-ded6-4d4b-8a11-7e58a7af1729",
   "metadata": {},
   "outputs": [],
   "source": [
    "specs = xrs.welch(data_slice, dim='time', nperseg=2048, dB=True, fs=200)"
   ]
  },
  {
   "cell_type": "code",
   "execution_count": null,
   "id": "9046163b-8de1-4c3a-9288-d0d90fb25be8",
   "metadata": {},
   "outputs": [],
   "source": [
    "specs_computed = specs['AXCC1'].compute().assign_coords({'time':np.arange(3624)})"
   ]
  },
  {
   "cell_type": "code",
   "execution_count": null,
   "id": "c2f6a1e3-9286-407f-8e46-65b3d318ccc6",
   "metadata": {},
   "outputs": [],
   "source": [
    "(specs_computed + 120).hvplot.image(x='time', clim=(40,100), cmap='rocket')"
   ]
  },
  {
   "cell_type": "markdown",
   "id": "54222a89-2108-4515-a8f8-a6a1e24928cf",
   "metadata": {},
   "source": [
    "## Pre-computed spectrograms\n",
    "- zarr file located at `/home/jovyan/ooi/rsn_cabled/SummerSchool2025/lowfrequency_hydrophone_data/ooi_lfhydrophones.zarr`"
   ]
  },
  {
   "cell_type": "code",
   "execution_count": null,
   "id": "f2c67632-a06d-4d62-8329-99ce3906daf3",
   "metadata": {},
   "outputs": [],
   "source": [
    "import xarray as xr"
   ]
  },
  {
   "cell_type": "code",
   "execution_count": null,
   "id": "cfe55832-fc0b-4807-b6cb-4a01a73e7c8a",
   "metadata": {},
   "outputs": [],
   "source": [
    "fn = '/home/jovyan/ooi/rsn_cabled/SummerSchool2025/lowfrequency_hydrophone_data/1hr_20150101_20230101_16192pt_HPcorrected.zarr/'"
   ]
  },
  {
   "cell_type": "code",
   "execution_count": null,
   "id": "ea2d1dc1-c076-460a-9f17-208e6c18a39c",
   "metadata": {},
   "outputs": [],
   "source": [
    "ds = xr.open_zarr(fn)"
   ]
  },
  {
   "cell_type": "code",
   "execution_count": null,
   "id": "9961daf6-6290-4992-9b92-c57df20fb899",
   "metadata": {},
   "outputs": [],
   "source": []
  }
 ],
 "metadata": {
  "kernelspec": {
   "display_name": "ooi_acoustics_day2",
   "language": "python",
   "name": "ooi_acoustics_day2"
  },
  "language_info": {
   "codemirror_mode": {
    "name": "ipython",
    "version": 3
   },
   "file_extension": ".py",
   "mimetype": "text/x-python",
   "name": "python",
   "nbconvert_exporter": "python",
   "pygments_lexer": "ipython3",
   "version": "3.12.11"
  }
 },
 "nbformat": 4,
 "nbformat_minor": 5
}
