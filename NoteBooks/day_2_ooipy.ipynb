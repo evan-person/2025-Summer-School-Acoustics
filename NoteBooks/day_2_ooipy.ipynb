{
 "cells": [
  {
   "cell_type": "markdown",
   "id": "2f0ad1cc-4c66-42ef-88fc-19c17f1ca76b",
   "metadata": {},
   "source": [
    "# Getting to know OOIPY\n",
    "<img src=\"https://ooipy.readthedocs.io/en/latest/_images/OOIPY_Logo.png\" width=\"100\">\n",
    "\n",
    "The documentation can be found [here](https://ooipy.readthedocs.io/en/latest/)"
   ]
  },
  {
   "cell_type": "code",
   "execution_count": null,
   "id": "354e5368-dc29-4450-a0a5-9bf101888eb1",
   "metadata": {},
   "outputs": [],
   "source": [
    "import ooipy\n",
    "from datetime import datetime\n",
    "from IPython.display import Audio\n",
    "import matplotlib.pyplot as plt\n",
    "import numpy as np\n",
    "import hvplot.xarray\n",
    "import xarray as xr\n",
    "import pandas as pd"
   ]
  },
  {
   "cell_type": "markdown",
   "id": "0935514b-adc6-4608-9883-3422f1360e5c",
   "metadata": {},
   "source": [
    "### download broadband hydrophone data\n",
    "- using `ooipy.get_acoustic_data` download a section of hydrophone data\n",
    "    - data section"
   ]
  },
  {
   "cell_type": "code",
   "execution_count": null,
   "id": "d08ed223-e753-40c9-aedf-ad932f4f1c54",
   "metadata": {},
   "outputs": [],
   "source": [
    "starttime=datetime(2019,1,12,3)\n",
    "endtime=datetime(2019,1,12,3,2)\n",
    "node = 'LJ01C'\n",
    "\n",
    "hdata = ooipy.get_acoustic_data(starttime, endtime, node, verbose=True)"
   ]
  },
  {
   "cell_type": "markdown",
   "id": "62a6df25-b8a0-4e49-95a7-4f8a0dd9b243",
   "metadata": {},
   "source": [
    "   - downloads the relevant mseed files from the HTTP raw data server, and combines individual mseed files into a continuous data stream\n",
    "   - If you are on Jupyter Hub, you can instead pull the data from the mounted ooi data directory\n",
    "        - this allows you to pull in larger data (it's not going through the network)"
   ]
  },
  {
   "cell_type": "code",
   "execution_count": null,
   "id": "e6f789ad-837f-48c6-bf61-e67d0f621b3e",
   "metadata": {},
   "outputs": [],
   "source": [
    "starttime=datetime(2019,1,12,3)\n",
    "endtime=datetime(2019,1,12,4)\n",
    "node = 'LJ01C'\n",
    "\n",
    "hdata_jhub = ooipy.get_acoustic_data(starttime, endtime, node, verbose=True, jupyter_hub=True)"
   ]
  },
  {
   "cell_type": "code",
   "execution_count": null,
   "id": "7e919f0d-f1ae-4d16-a0c6-ca28170b01c8",
   "metadata": {},
   "outputs": [],
   "source": [
    "len(hdata_jhub.data)*8*1e-9"
   ]
  },
  {
   "cell_type": "markdown",
   "id": "100d41a4-407f-4a7d-8b09-4b97c0ca1d5d",
   "metadata": {},
   "source": [
    "### exploring the `ooipy.HydrophoneData` Object"
   ]
  },
  {
   "cell_type": "markdown",
   "id": "e1210501-c50f-42f8-8e3c-82928dcda4aa",
   "metadata": {},
   "source": [
    "#### obspy Trace methods\n",
    "- wraps the `obspy.Trace` class (so it has all of the functionality of obspy traces)\n",
    "   - plotting\n",
    "   - decimation"
   ]
  },
  {
   "cell_type": "code",
   "execution_count": null,
   "id": "af7ca190-ebf4-49ab-a039-42431bf6f8e4",
   "metadata": {},
   "outputs": [],
   "source": [
    "_ = hdata.plot()"
   ]
  },
  {
   "cell_type": "code",
   "execution_count": null,
   "id": "b4ff9482-7420-4ff1-a631-2467aa53d569",
   "metadata": {},
   "outputs": [],
   "source": [
    "starttime=datetime(2019,1,12,3)\n",
    "endtime=datetime(2019,1,12,3,2)\n",
    "node = 'LJ01C'\n",
    "\n",
    "hdata_temp = ooipy.get_acoustic_data(starttime, endtime, node, verbose=True)\n",
    "hdata_temp.decimate(8)"
   ]
  },
  {
   "cell_type": "code",
   "execution_count": null,
   "id": "9533dbb6-8c25-45c3-a74b-2abfd2db4a4a",
   "metadata": {},
   "outputs": [],
   "source": [
    "hdata_temp"
   ]
  },
  {
   "cell_type": "markdown",
   "id": "499ab9e8-90fd-4869-b297-128ae9db9cdf",
   "metadata": {},
   "source": [
    "#### estimate power spectral density"
   ]
  },
  {
   "cell_type": "code",
   "execution_count": null,
   "id": "39a2ab17-7090-4c4f-9cf2-2e9c67ea5a8e",
   "metadata": {},
   "outputs": [],
   "source": [
    "psd = hdata.compute_psd_welch()"
   ]
  },
  {
   "cell_type": "code",
   "execution_count": null,
   "id": "6910d5be-cab0-4ce5-8938-8c5f3c26a8f9",
   "metadata": {},
   "outputs": [],
   "source": [
    "psd.plot()\n",
    "plt.xscale('log')"
   ]
  },
  {
   "cell_type": "markdown",
   "id": "fed50ebc-b89b-40e1-a94b-edd0c3b070db",
   "metadata": {},
   "source": [
    "#### compute spectrograms\n",
    "(Using PSD estimates)"
   ]
  },
  {
   "cell_type": "code",
   "execution_count": null,
   "id": "843d8a60-0925-493a-96c6-5eb75c0f569a",
   "metadata": {},
   "outputs": [],
   "source": [
    "spec = hdata.compute_spectrogram()"
   ]
  },
  {
   "cell_type": "code",
   "execution_count": null,
   "id": "68b296f4-484c-4282-be48-314ee44ba8be",
   "metadata": {},
   "outputs": [],
   "source": [
    "spec"
   ]
  },
  {
   "cell_type": "code",
   "execution_count": null,
   "id": "7c50847b-ca34-4a0c-add7-01193ec9958a",
   "metadata": {},
   "outputs": [],
   "source": [
    "spec.hvplot.image(x='time', clim=(30,90), rasterize=True)"
   ]
  },
  {
   "cell_type": "markdown",
   "id": "4d348294-1d9e-4780-821a-a4ff5132de14",
   "metadata": {},
   "source": [
    "#### Playing with xarray a little bit\n",
    "- let's take a little bit of time to familiarize ourselves with xarray"
   ]
  },
  {
   "cell_type": "code",
   "execution_count": null,
   "id": "62584f6f-913c-432a-b149-9538277f566d",
   "metadata": {},
   "outputs": [],
   "source": [
    "spec_large = hdata_jhub.compute_spectrogram()"
   ]
  },
  {
   "cell_type": "code",
   "execution_count": null,
   "id": "1c462908-a3dc-42a8-9cc4-b3a5cbb19187",
   "metadata": {},
   "outputs": [],
   "source": [
    "spec_large"
   ]
  },
  {
   "cell_type": "code",
   "execution_count": null,
   "id": "8991f855-058d-4dc2-9a28-f5c47b0bc233",
   "metadata": {},
   "outputs": [],
   "source": [
    "spec_large.hvplot(rasterize=True)"
   ]
  },
  {
   "cell_type": "markdown",
   "id": "b5acec81-8f8d-457d-852f-5f446bf01a51",
   "metadata": {},
   "source": [
    "- you can slice the dataset with coordinate values"
   ]
  },
  {
   "cell_type": "code",
   "execution_count": null,
   "id": "edbcc60f-04fd-4536-9a97-6f145c943c2e",
   "metadata": {},
   "outputs": [],
   "source": [
    "spec_slice = (\n",
    "    spec_large\n",
    "    .sel({'time':slice(pd.Timestamp('2019-01-12 T03:30:00'), pd.Timestamp('2019-01-12 T03:32:00'))})\n",
    "    .sel({'frequency':slice(1000,10000)})\n",
    ")"
   ]
  },
  {
   "cell_type": "markdown",
   "id": "53112d27-cd93-4d87-aa76-0cee0868d77e",
   "metadata": {},
   "source": [
    "#### listen to audio in notebook"
   ]
  },
  {
   "cell_type": "code",
   "execution_count": null,
   "id": "c6d72068-5361-49ff-807c-6cdbbea6b982",
   "metadata": {},
   "outputs": [],
   "source": [
    "Audio(hdata.data, rate=64e3)"
   ]
  },
  {
   "cell_type": "markdown",
   "id": "47b5ae45-f78e-4256-98d7-81340d263282",
   "metadata": {},
   "source": [
    "#### save data to file"
   ]
  },
  {
   "cell_type": "code",
   "execution_count": null,
   "id": "ef7369dc-069d-4f91-8115-a05ded2f508d",
   "metadata": {},
   "outputs": [],
   "source": [
    "hdata.save(file_format='nc', filename='LJ01C_20190112')"
   ]
  },
  {
   "cell_type": "code",
   "execution_count": null,
   "id": "051b8f12-965a-4e1f-8358-02982b98ab97",
   "metadata": {},
   "outputs": [],
   "source": [
    "xr.open_dataarray('LJ01C_20190112.nc').plot()"
   ]
  },
  {
   "cell_type": "markdown",
   "id": "4dda707e-87cf-45ec-9f5f-4caefa631742",
   "metadata": {},
   "source": [
    "## Download Low Frequency Data with ooipy"
   ]
  },
  {
   "cell_type": "code",
   "execution_count": null,
   "id": "ba4acef3-e043-43d8-9dfa-c75dfb02fc66",
   "metadata": {},
   "outputs": [],
   "source": [
    "import ooipy\n",
    "from datetime import datetime"
   ]
  },
  {
   "cell_type": "code",
   "execution_count": null,
   "id": "b875f686-a2de-45fb-ab4c-9e3cd4c1812a",
   "metadata": {},
   "outputs": [],
   "source": [
    "starttime = datetime(2018,5,1)\n",
    "endtime = datetime(2018,5,1,1)\n",
    "node='AXCC1'\n",
    "\n",
    "hdata = ooipy.get_acoustic_data_LF(starttime, endtime, node, verbose=True)"
   ]
  },
  {
   "cell_type": "code",
   "execution_count": null,
   "id": "bcf9cf38-eed0-4c49-9f6d-e7187eab31a9",
   "metadata": {},
   "outputs": [],
   "source": [
    "_ = hdata.plot()"
   ]
  },
  {
   "cell_type": "code",
   "execution_count": null,
   "id": "5d3f63fa-e619-48dc-9983-3639454bbd5e",
   "metadata": {},
   "outputs": [],
   "source": [
    "spec = hdata.compute_spectrogram()"
   ]
  },
  {
   "cell_type": "code",
   "execution_count": null,
   "id": "d1e2c447-2ab2-47a0-bec0-f14179076d4f",
   "metadata": {},
   "outputs": [],
   "source": [
    "spec.plot(x='time', vmax=90, vmin=50)"
   ]
  },
  {
   "cell_type": "code",
   "execution_count": null,
   "id": "9e353771-3ff5-4e40-b386-f3dfb29959b6",
   "metadata": {},
   "outputs": [],
   "source": [
    "spec"
   ]
  }
 ],
 "metadata": {
  "kernelspec": {
   "display_name": "ooi_acoustics",
   "language": "python",
   "name": "ooi_acoustics"
  },
  "language_info": {
   "codemirror_mode": {
    "name": "ipython",
    "version": 3
   },
   "file_extension": ".py",
   "mimetype": "text/x-python",
   "name": "python",
   "nbconvert_exporter": "python",
   "pygments_lexer": "ipython3",
   "version": "3.12.11"
  }
 },
 "nbformat": 4,
 "nbformat_minor": 5
}
