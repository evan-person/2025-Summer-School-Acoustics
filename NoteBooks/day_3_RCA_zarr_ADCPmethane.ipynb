{
 "cells": [
  {
   "cell_type": "code",
   "execution_count": null,
   "id": "540cf5d4-9cef-488c-9093-a35f5cd6d55f",
   "metadata": {},
   "outputs": [],
   "source": [
    "import s3fs\n",
    "import xarray as xr\n",
    "import matplotlib.pyplot as plt"
   ]
  },
  {
   "cell_type": "code",
   "execution_count": null,
   "id": "73592aa2-3269-438d-bfa7-c8eccd942cc8",
   "metadata": {},
   "outputs": [],
   "source": [
    "RCA_s3_bucket = \"ooi-example-data/\"\n",
    "fs = s3fs.S3FileSystem(anon=True)"
   ]
  },
  {
   "cell_type": "code",
   "execution_count": null,
   "id": "fd97b75e-aa3e-4d35-8937-132bcf25a0ac",
   "metadata": {},
   "outputs": [],
   "source": [
    "starttime = '2025-02-01T00:00:00'\n",
    "endtime = '2025-02-08T00:00:00'"
   ]
  },
  {
   "cell_type": "code",
   "execution_count": null,
   "id": "087c416d-b937-4b77-adfb-d8b12702c098",
   "metadata": {},
   "outputs": [],
   "source": [
    "stream_name = \"RS01SUM2-MJ01B-12-ADCPSK101-streamed-adcp_velocity_beam\""
   ]
  },
  {
   "cell_type": "code",
   "execution_count": null,
   "id": "8f244ab2-a4a5-4e20-b232-829199e4644a",
   "metadata": {},
   "outputs": [],
   "source": [
    "def load_data(stream_name):\n",
    "    zarr_dir = RCA_s3_bucket + stream_name\n",
    "    zarr_store = fs.get_mapper(zarr_dir)\n",
    "    ds = xr.open_zarr(zarr_store, consolidated=True)\n",
    "    return ds"
   ]
  },
  {
   "cell_type": "code",
   "execution_count": null,
   "id": "90312e11-cc13-4413-9388-2bbab0e3b7e0",
   "metadata": {},
   "outputs": [],
   "source": [
    "ds = load_data(stream_name)"
   ]
  },
  {
   "cell_type": "code",
   "execution_count": null,
   "id": "e8bf45e4-2bde-4689-a286-f72d398c5096",
   "metadata": {
    "scrolled": true
   },
   "outputs": [],
   "source": [
    "ds"
   ]
  },
  {
   "cell_type": "code",
   "execution_count": null,
   "id": "9b128101-e758-46ee-9b4a-ff1fb9a7fdbf",
   "metadata": {},
   "outputs": [],
   "source": [
    "size_terrabytes = ds.nbytes / 1e12\n",
    "size_terrabytes"
   ]
  },
  {
   "cell_type": "code",
   "execution_count": null,
   "id": "10dcb962-d70c-40f3-b4fe-af82999e2cf2",
   "metadata": {},
   "outputs": [],
   "source": [
    "adcp_ds = ds.sel(time=slice(starttime, endtime))"
   ]
  },
  {
   "cell_type": "code",
   "execution_count": null,
   "id": "7fb8d0e4-fe04-4f36-84f6-1b046f288803",
   "metadata": {},
   "outputs": [],
   "source": [
    "plt.figure(figsize=(40, 8))\n",
    "plt.pcolormesh(adcp_ds.time, adcp_ds.bin_depths.T, adcp_ds.corrected_echo_intensity_beam1.T, cmap='viridis')\n",
    "plt.gca().invert_yaxis()"
   ]
  },
  {
   "cell_type": "code",
   "execution_count": null,
   "id": "7dc87c12-c86f-4a72-8259-3886c42ed355",
   "metadata": {},
   "outputs": [],
   "source": []
  }
 ],
 "metadata": {
  "kernelspec": {
   "display_name": "Python 3 (ipykernel)",
   "language": "python",
   "name": "python3"
  },
  "language_info": {
   "codemirror_mode": {
    "name": "ipython",
    "version": 3
   },
   "file_extension": ".py",
   "mimetype": "text/x-python",
   "name": "python",
   "nbconvert_exporter": "python",
   "pygments_lexer": "ipython3",
   "version": "3.11.13"
  }
 },
 "nbformat": 4,
 "nbformat_minor": 5
}
