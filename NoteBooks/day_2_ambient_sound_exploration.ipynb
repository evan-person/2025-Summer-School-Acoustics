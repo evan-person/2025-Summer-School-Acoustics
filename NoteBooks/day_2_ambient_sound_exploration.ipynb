{
 "cells": [
  {
   "cell_type": "markdown",
   "id": "e0ba6a26-8823-48ad-a20d-211116ab7d7c",
   "metadata": {},
   "source": [
    "# Playing with OOI Data\n",
    "Let's look at some sections of OOI hydrophone data and see if we can identify the different sounds"
   ]
  },
  {
   "cell_type": "markdown",
   "id": "18686a5e-b84b-4ce2-afbe-4da53468d6bc",
   "metadata": {},
   "source": [
    "## Source Identification"
   ]
  },
  {
   "cell_type": "markdown",
   "id": "dfe3d557-e167-4718-b2f6-fc16be33f74f",
   "metadata": {},
   "source": [
    "### Segment 1\n",
    "**Location**\n",
    "- Central Caldera, low frequency hydrophone (AXCC1) </br>\n",
    "\n",
    "**Time Range**\n",
    "- Time range: 2018-12-15 T00:00:00 to 2018-12-15 T00:30:00"
   ]
  },
  {
   "cell_type": "code",
   "execution_count": null,
   "id": "62dc4d25-9887-4a7d-afac-b276eaa50cc3",
   "metadata": {},
   "outputs": [],
   "source": []
  },
  {
   "cell_type": "markdown",
   "id": "be274b95-c441-4def-bf22-df0026e07a7a",
   "metadata": {},
   "source": [
    "### Segment 2\n",
    "**Location**\n",
    "- Axial Base, low frequency hydrophone (AXBA1)\n",
    "\n",
    "**Time Range**\n",
    "- 2015-04-24 T00:00:00 to 2015-04-24 T12:00:00"
   ]
  },
  {
   "cell_type": "code",
   "execution_count": null,
   "id": "f89ca40c-71dc-460b-9802-9bfdb37e538d",
   "metadata": {},
   "outputs": [],
   "source": []
  },
  {
   "cell_type": "markdown",
   "id": "72ac914d-e071-4a27-86aa-4f0a5c3b87b4",
   "metadata": {},
   "source": [
    "### Segment 3\n",
    "\n",
    "**Locations**\n",
    "- Axial Base, broadband hydrophone (LJ03A)\n",
    "- Central Caldera, low frequency hydrophone (AXCC1)\n",
    "\n",
    "**Time Range**\n",
    "- 2019-07-29 T07:00:00 to 2019-07-29 T07:01:00\n"
   ]
  },
  {
   "cell_type": "code",
   "execution_count": null,
   "id": "de3f6de4-4d3e-4a6c-be32-2c4329dea744",
   "metadata": {},
   "outputs": [],
   "source": []
  },
  {
   "cell_type": "markdown",
   "id": "4f9ac3f1-d2d9-4bb1-a4a7-73875fca1d0c",
   "metadata": {},
   "source": [
    "### Segment 4\n",
    "**Locations**\n",
    "- Central Caldera, low frequency hydrophone (AXCC1)\n",
    "\n",
    "**Time Range**\n",
    "- 2019-07-01 T00:00:00 to 2019-09-01 T00:00:00"
   ]
  },
  {
   "cell_type": "code",
   "execution_count": null,
   "id": "10dc559c-43b1-4f02-bfae-cb1d8793c982",
   "metadata": {},
   "outputs": [],
   "source": []
  },
  {
   "cell_type": "markdown",
   "id": "a4150099-e868-4f16-b4c0-6a7d29555741",
   "metadata": {},
   "source": [
    "### Segment 5\n",
    "\n",
    "**Location**\n",
    "- Oregon Offshore, broadband hydrophone (LJ01C)\n",
    "\n",
    "**Time Range**\n",
    "- 2024-01-01 T00:00:00 to 2024-01-01 T00:05:00"
   ]
  },
  {
   "cell_type": "code",
   "execution_count": null,
   "id": "c6c1b7dd-38d7-445d-b782-7702ebfbfc96",
   "metadata": {},
   "outputs": [],
   "source": []
  },
  {
   "cell_type": "markdown",
   "id": "fbf4c9f1-6126-4bed-97be-548364029d29",
   "metadata": {},
   "source": [
    "## Longterm spectral trends\n",
    "- look at 8 year, 15 - 25 Hz average spectral band"
   ]
  },
  {
   "cell_type": "code",
   "execution_count": null,
   "id": "579d40fb-0840-4082-93c7-7bda251d085a",
   "metadata": {},
   "outputs": [],
   "source": []
  }
 ],
 "metadata": {
  "kernelspec": {
   "display_name": "ooi_acoustics",
   "language": "python",
   "name": "ooi_acoustics"
  },
  "language_info": {
   "codemirror_mode": {
    "name": "ipython",
    "version": 3
   },
   "file_extension": ".py",
   "mimetype": "text/x-python",
   "name": "python",
   "nbconvert_exporter": "python",
   "pygments_lexer": "ipython3",
   "version": "3.12.11"
  }
 },
 "nbformat": 4,
 "nbformat_minor": 5
}
